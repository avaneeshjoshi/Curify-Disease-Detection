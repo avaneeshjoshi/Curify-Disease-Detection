{
 "cells": [
  {
   "cell_type": "code",
   "execution_count": 1,
   "id": "e15ea08c",
   "metadata": {
    "scrolled": true
   },
   "outputs": [],
   "source": [
    "import pyspark\n",
    "import mlflow\n",
    "import mlflow.spark\n",
    "import os"
   ]
  },
  {
   "cell_type": "code",
   "execution_count": 2,
   "id": "57b75e7f",
   "metadata": {},
   "outputs": [
    {
     "name": "stdout",
     "output_type": "stream",
     "text": [
      "MLflow Version: 1.28.0\n"
     ]
    }
   ],
   "source": [
    "print(\"MLflow Version: %s\" % mlflow.__version__)"
   ]
  },
  {
   "cell_type": "code",
   "execution_count": 7,
   "id": "9c46c677",
   "metadata": {},
   "outputs": [],
   "source": [
    "mlflow.tracking.set_tracking_uri('/Users/avaneeshjoshi/Documents/GitHub/Financial-Fraud-Detection-using-PaySim')"
   ]
  },
  {
   "cell_type": "code",
   "execution_count": 8,
   "id": "75f6f30b",
   "metadata": {},
   "outputs": [
    {
     "ename": "NameError",
     "evalue": "name 'spark' is not defined",
     "output_type": "error",
     "traceback": [
      "\u001b[0;31m---------------------------------------------------------------------------\u001b[0m",
      "\u001b[0;31mNameError\u001b[0m                                 Traceback (most recent call last)",
      "Input \u001b[0;32mIn [8]\u001b[0m, in \u001b[0;36m<cell line: 1>\u001b[0;34m()\u001b[0m\n\u001b[0;32m----> 1\u001b[0m df \u001b[38;5;241m=\u001b[39m \u001b[43mspark\u001b[49m\u001b[38;5;241m.\u001b[39mread\u001b[38;5;241m.\u001b[39mload(\u001b[38;5;124m\"\u001b[39m\u001b[38;5;124mpaysim_fraud.csv\u001b[39m\u001b[38;5;124m\"\u001b[39m,\n\u001b[1;32m      2\u001b[0m                     \u001b[38;5;28mformat\u001b[39m\u001b[38;5;241m=\u001b[39m\u001b[38;5;124m\"\u001b[39m\u001b[38;5;124mcsv\u001b[39m\u001b[38;5;124m\"\u001b[39m, sep\u001b[38;5;241m=\u001b[39m\u001b[38;5;124m\"\u001b[39m\u001b[38;5;124m,\u001b[39m\u001b[38;5;124m\"\u001b[39m, inferSchema\u001b[38;5;241m=\u001b[39m\u001b[38;5;124m\"\u001b[39m\u001b[38;5;124mtrue\u001b[39m\u001b[38;5;124m\"\u001b[39m, header\u001b[38;5;241m=\u001b[39m\u001b[38;5;124m\"\u001b[39m\u001b[38;5;124mtrue\u001b[39m\u001b[38;5;124m\"\u001b[39m)\u001b[38;5;241m.\u001b[39mdrop(\u001b[38;5;124m\"\u001b[39m\u001b[38;5;124misFraud\u001b[39m\u001b[38;5;124m\"\u001b[39m, \u001b[38;5;124m\"\u001b[39m\u001b[38;5;124misFlaggedFraud\u001b[39m\u001b[38;5;124m\"\u001b[39m)\n",
      "\u001b[0;31mNameError\u001b[0m: name 'spark' is not defined"
     ]
    }
   ],
   "source": [
    "df = spark.read.load(\"paysim_fraud.csv\",\n",
    "                    format=\"csv\", sep=\",\", inferSchema=\"true\", header=\"true\").drop(\"isFraud\", \"isFlaggedFraud\")"
   ]
  },
  {
   "cell_type": "code",
   "execution_count": null,
   "id": "d4e8e82f",
   "metadata": {},
   "outputs": [],
   "source": [
    "df = df.withColumn(\"orgDiff\", df.newbalanceOrig - df.oldbalanceOrg).withColumn(\"destDiff\", df.newbalanceDest - df.oldbalanceOrg)"
   ]
  },
  {
   "cell_type": "code",
   "execution_count": null,
   "id": "ae8ff8b2",
   "metadata": {},
   "outputs": [],
   "source": [
    "from pyspark.sql import functions as F\n",
    "\n",
    "df = df.withColumn(\"label\",\n",
    "                   F.when(\n",
    "                    (\n",
    "                       (df.oldbalanceOrg <= 56900) & (df.type == \"TRANSFER\") & (df.newbalanceDest <= 105)) |\n",
    "                       (\n",
    "                           (df.oldbalanceOrg > 56900) & (df.newbalanceOrig <= 12)) |\n",
    "                             (\n",
    "                               (df.oldbalanceOrg > 56900) &(df.newbalanceOrig > 12) & (df.amount > 1160000)\n",
    "                             ), 1\n",
    "                   ).otherwide(0))\n",
    "df = df.withColoumn(\"label_str\", df[\"label\"].cast(\"string\"))"
   ]
  },
  {
   "cell_type": "code",
   "execution_count": null,
   "id": "41681e02",
   "metadata": {},
   "outputs": [],
   "source": [
    "df.printSchema()"
   ]
  }
 ],
 "metadata": {
  "kernelspec": {
   "display_name": "Python 3.9 (tensorflow)",
   "language": "python",
   "name": "tensorflow"
  },
  "language_info": {
   "codemirror_mode": {
    "name": "ipython",
    "version": 3
   },
   "file_extension": ".py",
   "mimetype": "text/x-python",
   "name": "python",
   "nbconvert_exporter": "python",
   "pygments_lexer": "ipython3",
   "version": "3.9.13"
  }
 },
 "nbformat": 4,
 "nbformat_minor": 5
}
